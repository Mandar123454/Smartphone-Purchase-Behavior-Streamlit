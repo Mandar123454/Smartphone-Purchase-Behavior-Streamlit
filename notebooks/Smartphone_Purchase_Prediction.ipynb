{
 "cells": [
  {
   "cell_type": "markdown",
   "id": "60d2d32c",
   "metadata": {},
   "source": [
    "# Predictive Modeling for Smartphone Purchase Behavior\n",
    "\n",
    "This notebook demonstrates the end-to-end process for predicting smartphone purchase behavior using machine learning."
   ]
  },
  {
   "cell_type": "code",
   "execution_count": null,
   "id": "4250bfe5",
   "metadata": {},
   "outputs": [],
   "source": [
    "import pandas as pd\n",
    "import matplotlib.pyplot as plt\n",
    "import seaborn as sns\n",
    "from src.preprocessing import preprocess_data, split_data\n",
    "from src.model import train_model, evaluate_model"
   ]
  },
  {
   "cell_type": "code",
   "execution_count": null,
   "id": "0d1b8895",
   "metadata": {},
   "outputs": [],
   "source": [
    "# Load data\n",
    "df = pd.read_csv('../data/smartphone_purchase_data.csv')\n",
    "df.head()"
   ]
  },
  {
   "cell_type": "code",
   "execution_count": null,
   "id": "62fcf15b",
   "metadata": {},
   "outputs": [],
   "source": [
    "# Preprocess data\n",
    "df = preprocess_data(df)\n",
    "X_train, X_test, y_train, y_test = split_data(df, target_column='Purchased')"
   ]
  },
  {
   "cell_type": "code",
   "execution_count": null,
   "id": "98e503f6",
   "metadata": {},
   "outputs": [],
   "source": [
    "# Train and evaluate model\n",
    "model = train_model(X_train, y_train)\n",
    "evaluate_model(model, X_test, y_test)"
   ]
  }
 ],
 "metadata": {
  "language_info": {
   "name": "python"
  }
 },
 "nbformat": 4,
 "nbformat_minor": 5
}
